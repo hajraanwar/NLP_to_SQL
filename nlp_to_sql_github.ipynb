{
  "nbformat": 4,
  "nbformat_minor": 0,
  "metadata": {
    "colab": {
      "private_outputs": true,
      "provenance": [],
      "gpuType": "A100",
      "include_colab_link": true
    },
    "kernelspec": {
      "name": "python3",
      "display_name": "Python 3"
    },
    "language_info": {
      "name": "python"
    },
    "accelerator": "GPU"
  },
  "cells": [
    {
      "cell_type": "markdown",
      "metadata": {
        "id": "view-in-github",
        "colab_type": "text"
      },
      "source": [
        "<a href=\"https://colab.research.google.com/github/hajraanwar/NLP_to_SQL/blob/main/nlp_to_sql_github.ipynb\" target=\"_parent\"><img src=\"https://colab.research.google.com/assets/colab-badge.svg\" alt=\"Open In Colab\"/></a>"
      ]
    },
    {
      "cell_type": "code",
      "execution_count": null,
      "metadata": {
        "collapsed": true,
        "id": "jrytMbMwwnOA"
      },
      "outputs": [],
      "source": [
        "!apt-get install libaio1\n",
        "!pip install cx_Oracle\n"
      ]
    },
    {
      "cell_type": "code",
      "source": [
        "!mkdir -p /opt/oracle\n",
        "!wget https://download.oracle.com/otn_software/linux/instantclient/211000/instantclient-basic-linux.x64-21.1.0.0.0.zip\n",
        "!unzip -o instantclient-basic-linux.x64-21.1.0.0.0.zip\n",
        "!cp -r instantclient_21_1/* /opt/oracle/\n",
        "!sh -c \"echo /opt/oracle > /etc/ld.so.conf.d/oracle-instantclient.conf\"\n",
        "!ldconfig\n"
      ],
      "metadata": {
        "collapsed": true,
        "id": "3Jc5B99G4jy_"
      },
      "execution_count": null,
      "outputs": []
    },
    {
      "cell_type": "code",
      "source": [
        "import os\n",
        "os.environ[\"LD_LIBRARY_PATH\"] = \"/opt/oracle\"\n",
        "import cx_Oracle\n",
        "cx_Oracle.init_oracle_client(lib_dir=\"/opt/oracle\")\n"
      ],
      "metadata": {
        "id": "Hibq2Rmm4j2C"
      },
      "execution_count": null,
      "outputs": []
    },
    {
      "cell_type": "code",
      "source": [
        "def get_db_connection():\n",
        "    host = \"HOST.com\"\n",
        "    port = 1521\n",
        "    username = \"YOUR DATABASE USERNAME\"\n",
        "    password = \"YOUR  DATABASE PASSWORD\"\n",
        "    database_name = \"DB NAME\"\n",
        "\n",
        "    dsn = cx_Oracle.makedsn(host, port, service_name=database_name)\n",
        "    return cx_Oracle.connect(user=username, password=password, dsn=dsn)\n"
      ],
      "metadata": {
        "collapsed": true,
        "id": "L6M5B3OE4j63"
      },
      "execution_count": null,
      "outputs": []
    },
    {
      "cell_type": "markdown",
      "source": [
        "Cell 5: Save the Extracted Schema"
      ],
      "metadata": {
        "id": "DyIpmoJ_fBMI"
      }
    },
    {
      "cell_type": "code",
      "source": [
        "def extract_schema():\n",
        "    schema = {}\n",
        "    try:\n",
        "        connection = get_db_connection()\n",
        "        cursor = connection.cursor()\n",
        "\n",
        "        cursor.execute(\"\"\"\n",
        "            SELECT table_name\n",
        "            FROM all_tables\n",
        "            WHERE owner = 'ATOMCAMP'\n",
        "        \"\"\")\n",
        "        tables = cursor.fetchall()\n",
        "\n",
        "        for table in tables:\n",
        "            table_name = table[0]\n",
        "            cursor.execute(\"\"\"\n",
        "                SELECT column_name, data_type\n",
        "                FROM all_tab_columns\n",
        "                WHERE owner = 'ATOMCAMP'\n",
        "                AND table_name = :table_name\n",
        "            \"\"\", {'table_name': table_name})\n",
        "\n",
        "            schema[table_name] = cursor.fetchall()\n",
        "\n",
        "        cursor.close()\n",
        "        connection.close()\n",
        "    except cx_Oracle.DatabaseError as e:\n",
        "        print(\"Database error:\", e)\n",
        "    return schema\n",
        "\n",
        "schema = extract_schema()\n",
        "print(\"Extracted Schema:\", schema)\n"
      ],
      "metadata": {
        "id": "q1WD32dM4j-Q"
      },
      "execution_count": null,
      "outputs": []
    },
    {
      "cell_type": "code",
      "source": [
        "import os\n",
        "import torch\n",
        "from transformers import AutoTokenizer, AutoModelForCausalLM\n",
        "\n",
        "def load_llm():\n",
        "    os.environ[\"HUGGINGFACE_HUB_TOKEN\"] = \"YOUR HUGGING FACE TOKEN\"\n",
        "    model_id = \"meta-llama/Meta-Llama-3-8B-Instruct\"\n",
        "    tokenizer = AutoTokenizer.from_pretrained(model_id, use_auth_token=os.getenv(\"HUGGINGFACE_HUB_TOKEN\"))\n",
        "    model = AutoModelForCausalLM.from_pretrained(\n",
        "        model_id,\n",
        "        use_auth_token=os.getenv(\"HUGGINGFACE_HUB_TOKEN\"),\n",
        "        torch_dtype=torch.bfloat16,\n",
        "        device_map=\"auto\"\n",
        "    )\n",
        "    return tokenizer, model\n",
        "\n",
        "tokenizer, model = load_llm()\n"
      ],
      "metadata": {
        "id": "qGWGhyF3bPzm"
      },
      "execution_count": null,
      "outputs": []
    },
    {
      "cell_type": "code",
      "source": [
        "import re\n"
      ],
      "metadata": {
        "id": "rENAYvn6mAIV"
      },
      "execution_count": null,
      "outputs": []
    },
    {
      "cell_type": "code",
      "source": [
        "def generate_sql_query(schema, user_query, tokenizer, model):\n",
        "    \"\"\"\n",
        "    Generate an SQL query based on the schema and user query.\n",
        "\n",
        "    :param schema: Dictionary of tables and columns\n",
        "    :param user_query: Natural language query from the user\n",
        "    :param tokenizer: Tokenizer for the LLM\n",
        "    :param model: LLM for SQL generation\n",
        "    :return: A valid SQL query as a string\n",
        "    \"\"\"\n",
        "    # Restrict schema to the first 10 tables\n",
        "    first_10_tables = dict(list(schema.items())[:10])\n",
        "    schema_description = \"\\n\\n\".join(\n",
        "        [f\"Table: ATOMCAMP.{table}\\nColumns: {', '.join([col[0] for col in columns])}\" for table, columns in first_10_tables.items()]\n",
        "    )\n",
        "\n",
        "    prompt = f\"\"\"\n",
        "    You are an SQL expert. Generate a valid SQL query using the provided schema.\n",
        "    Ensure that the schema name 'ATOMCAMP.' is prefixed to all table names in the query.\n",
        "\n",
        "    Schema:\n",
        "    {schema_description}\n",
        "\n",
        "    User Query:\n",
        "    {user_query}\n",
        "\n",
        "    Generate the SQL query only in your response. Ensure the SQL query is syntactically valid for Oracle databases.\n",
        "    \"\"\"\n",
        "\n",
        "    # Tokenizer configuration\n",
        "    if tokenizer.pad_token is None:\n",
        "        tokenizer.pad_token = tokenizer.eos_token\n",
        "\n",
        "    inputs = tokenizer(\n",
        "        prompt,\n",
        "        return_tensors=\"pt\",\n",
        "        padding=True,\n",
        "        truncation=True,\n",
        "        max_length=1024\n",
        "    ).to(model.device)\n",
        "\n",
        "    outputs = model.generate(\n",
        "        inputs[\"input_ids\"],\n",
        "        attention_mask=inputs[\"attention_mask\"],\n",
        "        max_new_tokens=150,\n",
        "        temperature=0.5,\n",
        "        top_p=0.8\n",
        "    )\n",
        "\n",
        "    raw_response = tokenizer.decode(outputs[0], skip_special_tokens=True).strip()\n",
        "    print(\"Raw LLM Output:\\n\", raw_response)  # Debugging: Print the raw output\n",
        "\n",
        "    # Extract the first valid SQL query using regex\n",
        "    sql_match = re.search(r\"SELECT\\s.*?FROM\\s.*?(WHERE\\s.*?|);\", raw_response, re.DOTALL | re.IGNORECASE)\n",
        "\n",
        "    if sql_match:\n",
        "        # Ensure the query ends properly for Oracle\n",
        "        generated_query = sql_match.group(0).strip()\n",
        "        if generated_query.endswith(\";\"):\n",
        "            generated_query = generated_query[:-1]  # Remove trailing semicolon\n",
        "        return generated_query\n",
        "    else:\n",
        "        print(\"Model Output Debugging: The model did not generate a valid SQL query.\")\n",
        "        raise ValueError(\"Failed to extract a valid SQL query from the model's output.\")\n"
      ],
      "metadata": {
        "collapsed": true,
        "id": "Ov1FGET_bPv-"
      },
      "execution_count": null,
      "outputs": []
    },
    {
      "cell_type": "code",
      "source": [
        "def execute_sql_query(connection_details, schema, user_query, tokenizer, model):\n",
        "    \"\"\"\n",
        "    Generate and execute an SQL query for the first 10 tables.\n",
        "\n",
        "    :param connection_details: Dictionary containing database connection parameters\n",
        "    :param schema: Dictionary containing table schema\n",
        "    :param user_query: The natural language query provided by the user\n",
        "    :param tokenizer: Tokenizer for the LLM\n",
        "    :param model: The LLM model\n",
        "    :return: Query results or error messages\n",
        "    \"\"\"\n",
        "    try:\n",
        "        # Generate the SQL query\n",
        "        generated_query = generate_sql_query(schema, user_query, tokenizer, model)\n",
        "        print(\"Generated SQL Query:\\n\", generated_query)\n",
        "\n",
        "        # Establish database connection\n",
        "        connection = cx_Oracle.connect(\n",
        "            user=connection_details[\"username\"],\n",
        "            password=connection_details[\"password\"],\n",
        "            dsn=cx_Oracle.makedsn(\n",
        "                connection_details[\"host\"],\n",
        "                connection_details[\"port\"],\n",
        "                service_name=connection_details[\"database_name\"]\n",
        "            )\n",
        "        )\n",
        "        cursor = connection.cursor()\n",
        "\n",
        "        # Execute the SQL query\n",
        "        print(\"Executing SQL Query...\")\n",
        "        cursor.execute(generated_query)\n",
        "        results = cursor.fetchall()\n",
        "\n",
        "        # Display the results\n",
        "        print(\"Query Results:\")\n",
        "        if results:\n",
        "            for row in results:\n",
        "                print(row)\n",
        "        else:\n",
        "            print(\"No results found.\")\n",
        "\n",
        "        # Close cursor and connection\n",
        "        cursor.close()\n",
        "        connection.close()\n",
        "\n",
        "        return results\n",
        "    except cx_Oracle.DatabaseError as e:\n",
        "        print(\"Database error:\", e)\n",
        "        return None\n",
        "    except ValueError as ve:\n",
        "        print(f\"Query generation error: {ve}\")\n",
        "        return None\n",
        "    except Exception as ex:\n",
        "        print(\"An unexpected error occurred:\", ex)\n",
        "        return None\n"
      ],
      "metadata": {
        "id": "zHIQtWV2bPtS"
      },
      "execution_count": null,
      "outputs": []
    },
    {
      "cell_type": "code",
      "source": [
        "def generate_natural_language_response(user_query, sql_query, query_results, tokenizer, model):\n",
        "    \"\"\"\n",
        "    Generate a natural language explanation for the SQL query results.\n",
        "    \"\"\"\n",
        "    results_description = (\n",
        "        \"No results found.\" if not query_results else\n",
        "        \"\\n\".join([\", \".join(map(str, row)) for row in query_results])\n",
        "    )\n",
        "\n",
        "    prompt = f\"\"\"\n",
        "    User Query: {user_query}\n",
        "    SQL Query: {sql_query}\n",
        "    Query Results:\n",
        "    {results_description}\n",
        "\n",
        "    Provide a human-readable explanation of the results. Respond in a natural language style, summarizing the query and the key results in a way that the user can understand.\n",
        "    \"\"\"\n",
        "\n",
        "    if tokenizer.pad_token is None:\n",
        "        tokenizer.pad_token = tokenizer.eos_token\n",
        "\n",
        "    inputs = tokenizer(\n",
        "        prompt,\n",
        "        return_tensors=\"pt\",\n",
        "        padding=True,\n",
        "        truncation=True,\n",
        "        max_length=1024\n",
        "    ).to(model.device)\n",
        "\n",
        "    outputs = model.generate(\n",
        "        inputs[\"input_ids\"],\n",
        "        attention_mask=inputs[\"attention_mask\"],\n",
        "        max_new_tokens=150,\n",
        "        temperature=0.7,\n",
        "        top_p=0.9\n",
        "    )\n",
        "\n",
        "    natural_language_response = tokenizer.decode(outputs[0], skip_special_tokens=True).strip()\n",
        "    return natural_language_response\n",
        "\n",
        "\n",
        "def execute_and_explain_query(connection_details, schema, user_query, tokenizer, model):\n",
        "    \"\"\"\n",
        "    Generate, execute, and explain an SQL query based on user input.\n",
        "    \"\"\"\n",
        "    try:\n",
        "        # Step 1: Generate SQL query\n",
        "        sql_query = generate_sql_query(schema, user_query, tokenizer, model)\n",
        "        print(\"Generated SQL Query:\\n\", sql_query)\n",
        "\n",
        "        # Step 2: Execute SQL query\n",
        "        connection = cx_Oracle.connect(\n",
        "            user=connection_details[\"username\"],\n",
        "            password=connection_details[\"password\"],\n",
        "            dsn=cx_Oracle.makedsn(\n",
        "                connection_details[\"host\"],\n",
        "                connection_details[\"port\"],\n",
        "                service_name=connection_details[\"database_name\"]\n",
        "            )\n",
        "        )\n",
        "        cursor = connection.cursor()\n",
        "        print(\"Executing SQL Query...\")\n",
        "        cursor.execute(sql_query)\n",
        "        query_results = cursor.fetchall()\n",
        "\n",
        "        # Close database resources\n",
        "        cursor.close()\n",
        "        connection.close()\n",
        "\n",
        "        print(\"Query Results:\", query_results)\n",
        "\n",
        "        # Step 3: Generate natural language response\n",
        "        explanation = generate_natural_language_response(user_query, sql_query, query_results, tokenizer, model)\n",
        "        print(\"Natural Language Explanation:\\n\", explanation)\n",
        "\n",
        "        return query_results, explanation\n",
        "\n",
        "    except cx_Oracle.DatabaseError as e:\n",
        "        print(\"Database error:\", e)\n",
        "        return None, f\"Database error occurred: {e}\"\n",
        "    except ValueError as ve:\n",
        "        print(f\"Query generation error: {ve}\")\n",
        "        return None, f\"Query generation error: {ve}\"\n",
        "    except Exception as ex:\n",
        "        print(\"An unexpected error occurred:\", ex)\n",
        "        return None, f\"An unexpected error occurred: {ex}\"\n"
      ],
      "metadata": {
        "id": "o0GWXPOwuiGU"
      },
      "execution_count": null,
      "outputs": []
    },
    {
      "cell_type": "code",
      "source": [
        "# Define connection details\n",
        "connection_details = {\n",
        "    \"host\": \"atomcamp.cdk6ie0wqi3p.ap-southeast-2.rds.amazonaws.com\",\n",
        "    \"port\": 1521,\n",
        "    \"username\": \"admin\",\n",
        "    \"password\": \"4Hn_tc]5jj3uFu>nFMAkQzEu02EX\",\n",
        "    \"database_name\": \"atomcamp\"\n",
        "}\n",
        "\n",
        "\n",
        "# Announcements made in the year 2025\n",
        "# In the announcements table dividend less than 1000\n",
        "# In the announcements table bonus_share greater than  5000, or less than 1000\n",
        "\n",
        "# First 10 ANNUAL_INCOME_ID from ANNUAL_INCOME table\n",
        "\n",
        "# Fetch details of Rabobank bank from the Banks table\n",
        "\n",
        "# Fetch details of Riverside Plaza from branch table\n",
        "\n",
        "# Country code greater than 50 in City table\n",
        "\n",
        "# Clearing Type with cash in clearing_calendar\n",
        "\n",
        "# Package type carton in the client table\n",
        "# Female/male gender entries in the client table\n",
        "\n",
        "# BANK_ACCOUNT_TITLES named  David Green in the client_bank_info table\n",
        "\n",
        "\n",
        "# Example user query\n",
        "user_query = \"In the announcements table dividend less than 1000\"\n",
        "\n",
        "# Execute the query and get results with explanation\n",
        "query_results, explanation = execute_and_explain_query(connection_details, schema, user_query, tokenizer, model)\n",
        "\n",
        "# Display the natural language explanation\n",
        "print(\"\\nHuman-readable Explanation:\")\n",
        "print(explanation)\n",
        "\n"
      ],
      "metadata": {
        "id": "Kq_4OaU9bPq3"
      },
      "execution_count": null,
      "outputs": []
    },
    {
      "cell_type": "code",
      "source": [
        "!pip install gradio"
      ],
      "metadata": {
        "id": "27BjWoN9bPoV"
      },
      "execution_count": null,
      "outputs": []
    },
    {
      "cell_type": "code",
      "source": [
        "import gradio as gr\n",
        "\n",
        "# Initialize chat history\n",
        "chat_history = []\n",
        "\n",
        "def gpt_chatbot(user_query):\n",
        "    global chat_history\n",
        "\n",
        "    # Generate the model response (replace `main_agent` with your actual function)\n",
        "    model_response = f\"Response to: {user_query}\"  # Mock response for testing\n",
        "\n",
        "    # Append the user query and assistant response to the chat history\n",
        "    chat_history.append((f\"You: {user_query}\", f\"Assistant: {model_response}\"))\n",
        "\n",
        "    # Return updated chat history\n",
        "    return chat_history\n",
        "\n",
        "def clear_chat():\n",
        "    global chat_history\n",
        "    chat_history = []\n",
        "    return []\n",
        "\n",
        "# Gradio Interface\n",
        "with gr.Blocks() as demo:\n",
        "    with gr.Row():\n",
        "        gr.Markdown(\"### GPT-Style Dynamic Chat Interface\")\n",
        "\n",
        "    # Dynamic chat history display\n",
        "    with gr.Column(elem_id=\"chat_column\"):\n",
        "        chatbox = gr.Chatbot(label=\"Chat\", value=[], elem_id=\"chat_display\")\n",
        "\n",
        "    # Input box and buttons at the bottom\n",
        "    with gr.Row():\n",
        "        user_input = gr.Textbox(\n",
        "            show_label=False, placeholder=\"Type your question here...\", lines=1\n",
        "        )\n",
        "        submit_button = gr.Button(\"Submit\")\n",
        "        clear_button = gr.Button(\"Clear Chat\")\n",
        "\n",
        "    # Define button actions\n",
        "    submit_button.click(\n",
        "        gpt_chatbot, inputs=[user_input], outputs=[chatbox]\n",
        "    )\n",
        "    clear_button.click(clear_chat, outputs=[chatbox])\n",
        "\n",
        "# Launch the interface\n",
        "demo.launch()\n"
      ],
      "metadata": {
        "id": "NZCyfZgabPl5"
      },
      "execution_count": null,
      "outputs": []
    },
    {
      "cell_type": "code",
      "source": [],
      "metadata": {
        "id": "fFe2NjdXbPbh"
      },
      "execution_count": null,
      "outputs": []
    },
    {
      "cell_type": "code",
      "source": [],
      "metadata": {
        "id": "lmg0-zeVbPLZ"
      },
      "execution_count": null,
      "outputs": []
    }
  ]
}